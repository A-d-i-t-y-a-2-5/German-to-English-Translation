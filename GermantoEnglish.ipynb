{
  "nbformat": 4,
  "nbformat_minor": 0,
  "metadata": {
    "colab": {
      "name": "GtoE.ipynb",
      "provenance": [],
      "collapsed_sections": []
    },
    "kernelspec": {
      "name": "python3",
      "display_name": "Python 3"
    },
    "language_info": {
      "name": "python"
    },
    "accelerator": "GPU"
  },
  "cells": [
    {
      "cell_type": "code",
      "metadata": {
        "id": "KpIva-k7Fs8u"
      },
      "source": [
        "import pandas as pd\n",
        "import re\n",
        "import numpy as np\n",
        "import zipfile"
      ],
      "execution_count": 1,
      "outputs": []
    },
    {
      "cell_type": "code",
      "metadata": {
        "colab": {
          "base_uri": "https://localhost:8080/"
        },
        "id": "fHoh4qXWzfop",
        "outputId": "f7d6c6bd-1827-4ca8-abf5-5bba44bc171c"
      },
      "source": [
        "!wget https://www.manythings.org/anki/deu-eng.zip"
      ],
      "execution_count": 2,
      "outputs": [
        {
          "output_type": "stream",
          "text": [
            "--2021-07-10 13:37:56--  https://www.manythings.org/anki/deu-eng.zip\n",
            "Resolving www.manythings.org (www.manythings.org)... 172.67.173.198, 104.21.55.222, 2606:4700:3031::6815:37de, ...\n",
            "Connecting to www.manythings.org (www.manythings.org)|172.67.173.198|:443... connected.\n",
            "HTTP request sent, awaiting response... 200 OK\n",
            "Length: 9002192 (8.6M) [application/zip]\n",
            "Saving to: ‘deu-eng.zip’\n",
            "\n",
            "deu-eng.zip         100%[===================>]   8.58M  19.2MB/s    in 0.4s    \n",
            "\n",
            "2021-07-10 13:37:57 (19.2 MB/s) - ‘deu-eng.zip’ saved [9002192/9002192]\n",
            "\n"
          ],
          "name": "stdout"
        }
      ]
    },
    {
      "cell_type": "code",
      "metadata": {
        "id": "y6uJPTMOzxpt"
      },
      "source": [
        "with zipfile.ZipFile('deu-eng.zip', 'r') as zip:\n",
        "    zip.extractall()\n",
        "    \n",
        "with open('deu.txt', mode='r', encoding='utf-8') as data:\n",
        "    text = data.read()"
      ],
      "execution_count": 3,
      "outputs": []
    },
    {
      "cell_type": "code",
      "metadata": {
        "id": "7Rcg0Cnh1FHd"
      },
      "source": [
        "lines = text.strip().split('\\n')\n",
        "lines = [l.split('\\t') for l in lines]"
      ],
      "execution_count": 4,
      "outputs": []
    },
    {
      "cell_type": "code",
      "metadata": {
        "id": "t19bl4sv3AnR"
      },
      "source": [
        "eng = [l[0] for l in lines]\n",
        "ger = [l[1] for l in lines]"
      ],
      "execution_count": 5,
      "outputs": []
    },
    {
      "cell_type": "code",
      "metadata": {
        "id": "GdLTFNl53qJh",
        "colab": {
          "base_uri": "https://localhost:8080/",
          "height": 424
        },
        "outputId": "fedddc14-3161-439c-99a9-1d9e467fa927"
      },
      "source": [
        "d = {'English':eng, 'German':ger}\n",
        "df = pd.DataFrame(d)\n",
        "df"
      ],
      "execution_count": 6,
      "outputs": [
        {
          "output_type": "execute_result",
          "data": {
            "text/html": [
              "<div>\n",
              "<style scoped>\n",
              "    .dataframe tbody tr th:only-of-type {\n",
              "        vertical-align: middle;\n",
              "    }\n",
              "\n",
              "    .dataframe tbody tr th {\n",
              "        vertical-align: top;\n",
              "    }\n",
              "\n",
              "    .dataframe thead th {\n",
              "        text-align: right;\n",
              "    }\n",
              "</style>\n",
              "<table border=\"1\" class=\"dataframe\">\n",
              "  <thead>\n",
              "    <tr style=\"text-align: right;\">\n",
              "      <th></th>\n",
              "      <th>English</th>\n",
              "      <th>German</th>\n",
              "    </tr>\n",
              "  </thead>\n",
              "  <tbody>\n",
              "    <tr>\n",
              "      <th>0</th>\n",
              "      <td>Go.</td>\n",
              "      <td>Geh.</td>\n",
              "    </tr>\n",
              "    <tr>\n",
              "      <th>1</th>\n",
              "      <td>Hi.</td>\n",
              "      <td>Hallo!</td>\n",
              "    </tr>\n",
              "    <tr>\n",
              "      <th>2</th>\n",
              "      <td>Hi.</td>\n",
              "      <td>Grüß Gott!</td>\n",
              "    </tr>\n",
              "    <tr>\n",
              "      <th>3</th>\n",
              "      <td>Run!</td>\n",
              "      <td>Lauf!</td>\n",
              "    </tr>\n",
              "    <tr>\n",
              "      <th>4</th>\n",
              "      <td>Run.</td>\n",
              "      <td>Lauf!</td>\n",
              "    </tr>\n",
              "    <tr>\n",
              "      <th>...</th>\n",
              "      <td>...</td>\n",
              "      <td>...</td>\n",
              "    </tr>\n",
              "    <tr>\n",
              "      <th>240352</th>\n",
              "      <td>If someone who doesn't know your background sa...</td>\n",
              "      <td>Wenn jemand Fremdes dir sagt, dass du dich wie...</td>\n",
              "    </tr>\n",
              "    <tr>\n",
              "      <th>240353</th>\n",
              "      <td>If someone who doesn't know your background sa...</td>\n",
              "      <td>Wenn jemand, der nicht weiß, woher man kommt, ...</td>\n",
              "    </tr>\n",
              "    <tr>\n",
              "      <th>240354</th>\n",
              "      <td>It may be impossible to get a completely error...</td>\n",
              "      <td>Es ist wohl unmöglich, einen vollkommen fehler...</td>\n",
              "    </tr>\n",
              "    <tr>\n",
              "      <th>240355</th>\n",
              "      <td>I know that adding sentences only in your nati...</td>\n",
              "      <td>Ich weiß wohl, dass das ausschließliche Beitra...</td>\n",
              "    </tr>\n",
              "    <tr>\n",
              "      <th>240356</th>\n",
              "      <td>Doubtless there exists in this world precisely...</td>\n",
              "      <td>Ohne Zweifel findet sich auf dieser Welt zu je...</td>\n",
              "    </tr>\n",
              "  </tbody>\n",
              "</table>\n",
              "<p>240357 rows × 2 columns</p>\n",
              "</div>"
            ],
            "text/plain": [
              "                                                  English                                             German\n",
              "0                                                     Go.                                               Geh.\n",
              "1                                                     Hi.                                             Hallo!\n",
              "2                                                     Hi.                                         Grüß Gott!\n",
              "3                                                    Run!                                              Lauf!\n",
              "4                                                    Run.                                              Lauf!\n",
              "...                                                   ...                                                ...\n",
              "240352  If someone who doesn't know your background sa...  Wenn jemand Fremdes dir sagt, dass du dich wie...\n",
              "240353  If someone who doesn't know your background sa...  Wenn jemand, der nicht weiß, woher man kommt, ...\n",
              "240354  It may be impossible to get a completely error...  Es ist wohl unmöglich, einen vollkommen fehler...\n",
              "240355  I know that adding sentences only in your nati...  Ich weiß wohl, dass das ausschließliche Beitra...\n",
              "240356  Doubtless there exists in this world precisely...  Ohne Zweifel findet sich auf dieser Welt zu je...\n",
              "\n",
              "[240357 rows x 2 columns]"
            ]
          },
          "metadata": {
            "tags": []
          },
          "execution_count": 6
        }
      ]
    },
    {
      "cell_type": "code",
      "metadata": {
        "colab": {
          "base_uri": "https://localhost:8080/"
        },
        "id": "GUcmETL1k-pi",
        "outputId": "836a5a71-393e-4c67-9985-c656e7c39539"
      },
      "source": [
        "df.shape"
      ],
      "execution_count": 7,
      "outputs": [
        {
          "output_type": "execute_result",
          "data": {
            "text/plain": [
              "(240357, 2)"
            ]
          },
          "metadata": {
            "tags": []
          },
          "execution_count": 7
        }
      ]
    },
    {
      "cell_type": "markdown",
      "metadata": {
        "id": "Oq4KQLuBpwlK"
      },
      "source": [
        "# Preprocessing"
      ]
    },
    {
      "cell_type": "code",
      "metadata": {
        "id": "WVWShkl3uRoj"
      },
      "source": [
        "special_char_map = {ord('ä'):'ae', ord('ü'):'ue', ord('ö'):'oe', ord('ß'):'ss'}"
      ],
      "execution_count": 8,
      "outputs": []
    },
    {
      "cell_type": "code",
      "metadata": {
        "id": "Ny1nT2aNGePP"
      },
      "source": [
        "def clean(text):\n",
        "    text = text.translate(special_char_map)\n",
        "    text = re.sub(\"'\", '', text)\n",
        "    words = re.findall(r'\\w+', text)\n",
        "    words = [word.lower() for word in words]\n",
        "    return \" \".join(words)"
      ],
      "execution_count": 9,
      "outputs": []
    },
    {
      "cell_type": "code",
      "metadata": {
        "id": "gfn_C0ODjTBW"
      },
      "source": [
        "df['Eng_clean'] = df['English'].apply(clean)\n",
        "df['Ger_clean'] = df['German'].apply(clean)"
      ],
      "execution_count": 10,
      "outputs": []
    },
    {
      "cell_type": "code",
      "metadata": {
        "id": "Fcah2N6hiWqz"
      },
      "source": [
        "df['Eng_len'] = df['Eng_clean'].apply(lambda x: len(x.split()))\n",
        "df['Ger_len'] = df['Ger_clean'].apply(lambda x: len(x.split()))"
      ],
      "execution_count": 11,
      "outputs": []
    },
    {
      "cell_type": "code",
      "metadata": {
        "id": "I_bQSl51oaTF",
        "colab": {
          "base_uri": "https://localhost:8080/"
        },
        "outputId": "d9e8097f-e8ff-4429-d63b-f0f8cf7675af"
      },
      "source": [
        "df['Eng_len'].mean()"
      ],
      "execution_count": 12,
      "outputs": [
        {
          "output_type": "execute_result",
          "data": {
            "text/plain": [
              "6.311715489875477"
            ]
          },
          "metadata": {
            "tags": []
          },
          "execution_count": 12
        }
      ]
    },
    {
      "cell_type": "code",
      "metadata": {
        "colab": {
          "base_uri": "https://localhost:8080/"
        },
        "id": "AkOgDuteKXv5",
        "outputId": "d337df8a-776f-44da-b05b-98159d288605"
      },
      "source": [
        "df['Ger_len'].mean()"
      ],
      "execution_count": 13,
      "outputs": [
        {
          "output_type": "execute_result",
          "data": {
            "text/plain": [
              "6.342157707077389"
            ]
          },
          "metadata": {
            "tags": []
          },
          "execution_count": 13
        }
      ]
    },
    {
      "cell_type": "code",
      "metadata": {
        "id": "BNfr08Cnpj96"
      },
      "source": [
        "max_words = 7"
      ],
      "execution_count": 14,
      "outputs": []
    },
    {
      "cell_type": "code",
      "metadata": {
        "id": "T3SD4IaVpw5c"
      },
      "source": [
        "df_filter = df[(df['Eng_len'] <= max_words) & (df['Ger_len'] <= max_words)]"
      ],
      "execution_count": 15,
      "outputs": []
    },
    {
      "cell_type": "code",
      "metadata": {
        "colab": {
          "base_uri": "https://localhost:8080/",
          "height": 510
        },
        "id": "ONVqvcJ65qBq",
        "outputId": "541cc7a0-2428-4fe5-8f3d-96e0b56d8ae1"
      },
      "source": [
        "df_filter"
      ],
      "execution_count": 16,
      "outputs": [
        {
          "output_type": "execute_result",
          "data": {
            "text/html": [
              "<div>\n",
              "<style scoped>\n",
              "    .dataframe tbody tr th:only-of-type {\n",
              "        vertical-align: middle;\n",
              "    }\n",
              "\n",
              "    .dataframe tbody tr th {\n",
              "        vertical-align: top;\n",
              "    }\n",
              "\n",
              "    .dataframe thead th {\n",
              "        text-align: right;\n",
              "    }\n",
              "</style>\n",
              "<table border=\"1\" class=\"dataframe\">\n",
              "  <thead>\n",
              "    <tr style=\"text-align: right;\">\n",
              "      <th></th>\n",
              "      <th>English</th>\n",
              "      <th>German</th>\n",
              "      <th>Eng_clean</th>\n",
              "      <th>Ger_clean</th>\n",
              "      <th>Eng_len</th>\n",
              "      <th>Ger_len</th>\n",
              "    </tr>\n",
              "  </thead>\n",
              "  <tbody>\n",
              "    <tr>\n",
              "      <th>0</th>\n",
              "      <td>Go.</td>\n",
              "      <td>Geh.</td>\n",
              "      <td>go</td>\n",
              "      <td>geh</td>\n",
              "      <td>1</td>\n",
              "      <td>1</td>\n",
              "    </tr>\n",
              "    <tr>\n",
              "      <th>1</th>\n",
              "      <td>Hi.</td>\n",
              "      <td>Hallo!</td>\n",
              "      <td>hi</td>\n",
              "      <td>hallo</td>\n",
              "      <td>1</td>\n",
              "      <td>1</td>\n",
              "    </tr>\n",
              "    <tr>\n",
              "      <th>2</th>\n",
              "      <td>Hi.</td>\n",
              "      <td>Grüß Gott!</td>\n",
              "      <td>hi</td>\n",
              "      <td>gruess gott</td>\n",
              "      <td>1</td>\n",
              "      <td>2</td>\n",
              "    </tr>\n",
              "    <tr>\n",
              "      <th>3</th>\n",
              "      <td>Run!</td>\n",
              "      <td>Lauf!</td>\n",
              "      <td>run</td>\n",
              "      <td>lauf</td>\n",
              "      <td>1</td>\n",
              "      <td>1</td>\n",
              "    </tr>\n",
              "    <tr>\n",
              "      <th>4</th>\n",
              "      <td>Run.</td>\n",
              "      <td>Lauf!</td>\n",
              "      <td>run</td>\n",
              "      <td>lauf</td>\n",
              "      <td>1</td>\n",
              "      <td>1</td>\n",
              "    </tr>\n",
              "    <tr>\n",
              "      <th>...</th>\n",
              "      <td>...</td>\n",
              "      <td>...</td>\n",
              "      <td>...</td>\n",
              "      <td>...</td>\n",
              "      <td>...</td>\n",
              "      <td>...</td>\n",
              "    </tr>\n",
              "    <tr>\n",
              "      <th>229446</th>\n",
              "      <td>Salamanders are amphibians, whereas geckos are...</td>\n",
              "      <td>Salamander sind Amphibien, während Geckos Rept...</td>\n",
              "      <td>salamanders are amphibians whereas geckos are ...</td>\n",
              "      <td>salamander sind amphibien waehrend geckos rept...</td>\n",
              "      <td>7</td>\n",
              "      <td>7</td>\n",
              "    </tr>\n",
              "    <tr>\n",
              "      <th>229520</th>\n",
              "      <td>The government's decision had far-reaching imp...</td>\n",
              "      <td>Der Regierungsbeschluss hatte weitreichende Fo...</td>\n",
              "      <td>the governments decision had far reaching impl...</td>\n",
              "      <td>der regierungsbeschluss hatte weitreichende fo...</td>\n",
              "      <td>7</td>\n",
              "      <td>5</td>\n",
              "    </tr>\n",
              "    <tr>\n",
              "      <th>232416</th>\n",
              "      <td>Everyone should periodically receive a physica...</td>\n",
              "      <td>Jeder sollte sich regelmäßig ärztlich untersuc...</td>\n",
              "      <td>everyone should periodically receive a physica...</td>\n",
              "      <td>jeder sollte sich regelmaessig aerztlich unter...</td>\n",
              "      <td>7</td>\n",
              "      <td>7</td>\n",
              "    </tr>\n",
              "    <tr>\n",
              "      <th>232636</th>\n",
              "      <td>Most developing countries are suffering from o...</td>\n",
              "      <td>Die meisten Entwicklungsländer leiden an Überb...</td>\n",
              "      <td>most developing countries are suffering from o...</td>\n",
              "      <td>die meisten entwicklungslaender leiden an über...</td>\n",
              "      <td>7</td>\n",
              "      <td>6</td>\n",
              "    </tr>\n",
              "    <tr>\n",
              "      <th>234130</th>\n",
              "      <td>Environmental pollution is causing abnormal we...</td>\n",
              "      <td>Umweltverschmutzung führt zu abnormen Wetterla...</td>\n",
              "      <td>environmental pollution is causing abnormal we...</td>\n",
              "      <td>umweltverschmutzung fuehrt zu abnormen wetterl...</td>\n",
              "      <td>7</td>\n",
              "      <td>5</td>\n",
              "    </tr>\n",
              "  </tbody>\n",
              "</table>\n",
              "<p>164007 rows × 6 columns</p>\n",
              "</div>"
            ],
            "text/plain": [
              "                                                  English  ... Ger_len\n",
              "0                                                     Go.  ...       1\n",
              "1                                                     Hi.  ...       1\n",
              "2                                                     Hi.  ...       2\n",
              "3                                                    Run!  ...       1\n",
              "4                                                    Run.  ...       1\n",
              "...                                                   ...  ...     ...\n",
              "229446  Salamanders are amphibians, whereas geckos are...  ...       7\n",
              "229520  The government's decision had far-reaching imp...  ...       5\n",
              "232416  Everyone should periodically receive a physica...  ...       7\n",
              "232636  Most developing countries are suffering from o...  ...       6\n",
              "234130  Environmental pollution is causing abnormal we...  ...       5\n",
              "\n",
              "[164007 rows x 6 columns]"
            ]
          },
          "metadata": {
            "tags": []
          },
          "execution_count": 16
        }
      ]
    },
    {
      "cell_type": "code",
      "metadata": {
        "id": "ki2oL_2BqWdA"
      },
      "source": [
        "df_50000 = df_filter.sample(n=50000,random_state=101)"
      ],
      "execution_count": 17,
      "outputs": []
    },
    {
      "cell_type": "code",
      "metadata": {
        "colab": {
          "base_uri": "https://localhost:8080/",
          "height": 424
        },
        "id": "D3oDLc28u3qJ",
        "outputId": "7dc0ed21-2617-44d8-bb92-65feb752d959"
      },
      "source": [
        "df_50000"
      ],
      "execution_count": 18,
      "outputs": [
        {
          "output_type": "execute_result",
          "data": {
            "text/html": [
              "<div>\n",
              "<style scoped>\n",
              "    .dataframe tbody tr th:only-of-type {\n",
              "        vertical-align: middle;\n",
              "    }\n",
              "\n",
              "    .dataframe tbody tr th {\n",
              "        vertical-align: top;\n",
              "    }\n",
              "\n",
              "    .dataframe thead th {\n",
              "        text-align: right;\n",
              "    }\n",
              "</style>\n",
              "<table border=\"1\" class=\"dataframe\">\n",
              "  <thead>\n",
              "    <tr style=\"text-align: right;\">\n",
              "      <th></th>\n",
              "      <th>English</th>\n",
              "      <th>German</th>\n",
              "      <th>Eng_clean</th>\n",
              "      <th>Ger_clean</th>\n",
              "      <th>Eng_len</th>\n",
              "      <th>Ger_len</th>\n",
              "    </tr>\n",
              "  </thead>\n",
              "  <tbody>\n",
              "    <tr>\n",
              "      <th>111752</th>\n",
              "      <td>We just weren't good enough.</td>\n",
              "      <td>Wir waren einfach nicht gut genug.</td>\n",
              "      <td>we just werent good enough</td>\n",
              "      <td>wir waren einfach nicht gut genug</td>\n",
              "      <td>5</td>\n",
              "      <td>6</td>\n",
              "    </tr>\n",
              "    <tr>\n",
              "      <th>28717</th>\n",
              "      <td>Do you want a ride?</td>\n",
              "      <td>Soll ich euch mitnehmen?</td>\n",
              "      <td>do you want a ride</td>\n",
              "      <td>soll ich euch mitnehmen</td>\n",
              "      <td>5</td>\n",
              "      <td>4</td>\n",
              "    </tr>\n",
              "    <tr>\n",
              "      <th>83835</th>\n",
              "      <td>Tom refused to help Mary.</td>\n",
              "      <td>Tom weigerte sich, Maria zu helfen.</td>\n",
              "      <td>tom refused to help mary</td>\n",
              "      <td>tom weigerte sich maria zu helfen</td>\n",
              "      <td>5</td>\n",
              "      <td>6</td>\n",
              "    </tr>\n",
              "    <tr>\n",
              "      <th>78003</th>\n",
              "      <td>He has written two books.</td>\n",
              "      <td>Er hat zwei Bücher geschrieben.</td>\n",
              "      <td>he has written two books</td>\n",
              "      <td>er hat zwei buecher geschrieben</td>\n",
              "      <td>5</td>\n",
              "      <td>5</td>\n",
              "    </tr>\n",
              "    <tr>\n",
              "      <th>58830</th>\n",
              "      <td>You're the one I love.</td>\n",
              "      <td>Du bist es, den ich liebe.</td>\n",
              "      <td>youre the one i love</td>\n",
              "      <td>du bist es den ich liebe</td>\n",
              "      <td>5</td>\n",
              "      <td>6</td>\n",
              "    </tr>\n",
              "    <tr>\n",
              "      <th>...</th>\n",
              "      <td>...</td>\n",
              "      <td>...</td>\n",
              "      <td>...</td>\n",
              "      <td>...</td>\n",
              "      <td>...</td>\n",
              "      <td>...</td>\n",
              "    </tr>\n",
              "    <tr>\n",
              "      <th>112992</th>\n",
              "      <td>You're really a nice person.</td>\n",
              "      <td>Du bist wirklich ein netter Mensch!</td>\n",
              "      <td>youre really a nice person</td>\n",
              "      <td>du bist wirklich ein netter mensch</td>\n",
              "      <td>5</td>\n",
              "      <td>6</td>\n",
              "    </tr>\n",
              "    <tr>\n",
              "      <th>65952</th>\n",
              "      <td>Tom walked very slowly.</td>\n",
              "      <td>Tom ging sehr langsam.</td>\n",
              "      <td>tom walked very slowly</td>\n",
              "      <td>tom ging sehr langsam</td>\n",
              "      <td>4</td>\n",
              "      <td>4</td>\n",
              "    </tr>\n",
              "    <tr>\n",
              "      <th>153207</th>\n",
              "      <td>Were you with Tom the whole time?</td>\n",
              "      <td>Wart ihr die ganze Zeit bei Tom?</td>\n",
              "      <td>were you with tom the whole time</td>\n",
              "      <td>wart ihr die ganze zeit bei tom</td>\n",
              "      <td>7</td>\n",
              "      <td>7</td>\n",
              "    </tr>\n",
              "    <tr>\n",
              "      <th>120837</th>\n",
              "      <td>What did that suggest to you?</td>\n",
              "      <td>Was hat euch das gesagt?</td>\n",
              "      <td>what did that suggest to you</td>\n",
              "      <td>was hat euch das gesagt</td>\n",
              "      <td>6</td>\n",
              "      <td>5</td>\n",
              "    </tr>\n",
              "    <tr>\n",
              "      <th>10019</th>\n",
              "      <td>They're broken.</td>\n",
              "      <td>Sie sind kaputt.</td>\n",
              "      <td>theyre broken</td>\n",
              "      <td>sie sind kaputt</td>\n",
              "      <td>2</td>\n",
              "      <td>3</td>\n",
              "    </tr>\n",
              "  </tbody>\n",
              "</table>\n",
              "<p>50000 rows × 6 columns</p>\n",
              "</div>"
            ],
            "text/plain": [
              "                                  English  ... Ger_len\n",
              "111752       We just weren't good enough.  ...       6\n",
              "28717                 Do you want a ride?  ...       4\n",
              "83835           Tom refused to help Mary.  ...       6\n",
              "78003           He has written two books.  ...       5\n",
              "58830              You're the one I love.  ...       6\n",
              "...                                   ...  ...     ...\n",
              "112992       You're really a nice person.  ...       6\n",
              "65952             Tom walked very slowly.  ...       4\n",
              "153207  Were you with Tom the whole time?  ...       7\n",
              "120837      What did that suggest to you?  ...       5\n",
              "10019                     They're broken.  ...       3\n",
              "\n",
              "[50000 rows x 6 columns]"
            ]
          },
          "metadata": {
            "tags": []
          },
          "execution_count": 18
        }
      ]
    },
    {
      "cell_type": "markdown",
      "metadata": {
        "id": "PIYd9YzypZPa"
      },
      "source": [
        "# Text to Sequence Conversion"
      ]
    },
    {
      "cell_type": "code",
      "metadata": {
        "id": "c39-l_yGof-u"
      },
      "source": [
        "from sklearn.model_selection import train_test_split\n",
        "X_train, X_test, y_train, y_test = train_test_split(df_50000['Ger_clean'], df_50000['Eng_clean'],\n",
        "                                                    test_size=0.2, random_state=101, stratify=df_50000['Ger_len'])"
      ],
      "execution_count": 19,
      "outputs": []
    },
    {
      "cell_type": "code",
      "metadata": {
        "id": "ktvNxCCaqCkL"
      },
      "source": [
        "from keras.preprocessing.text import Tokenizer\n",
        "from keras.preprocessing.sequence import pad_sequences"
      ],
      "execution_count": 20,
      "outputs": []
    },
    {
      "cell_type": "code",
      "metadata": {
        "id": "WACsmZUdsHNz"
      },
      "source": [
        "ger_tokenizer = Tokenizer()\n",
        "ger_tokenizer.fit_on_texts(df_50000['Ger_clean'])\n",
        "ger_vocab_size = len(ger_tokenizer.word_index) + 1\n",
        "\n",
        "ger_tr = ger_tokenizer.texts_to_sequences(X_train)\n",
        "X_train_s = pad_sequences(ger_tr, maxlen=max_words, padding='post')\n",
        "\n",
        "ger_ts = ger_tokenizer.texts_to_sequences(X_test)\n",
        "X_test_s = pad_sequences(ger_ts, maxlen=max_words, padding='post')"
      ],
      "execution_count": 21,
      "outputs": []
    },
    {
      "cell_type": "code",
      "metadata": {
        "id": "OXfbeugHrHTE"
      },
      "source": [
        "eng_tokenizer = Tokenizer()\n",
        "eng_tokenizer.fit_on_texts(df_50000['Eng_clean'])\n",
        "eng_vocab_size = len(eng_tokenizer.word_index) + 1\n",
        "\n",
        "eng_tr = eng_tokenizer.texts_to_sequences(y_train)\n",
        "y_train_s = pad_sequences(eng_tr, maxlen=max_words, padding='post')\n",
        "\n",
        "eng_ts = eng_tokenizer.texts_to_sequences(y_test)\n",
        "y_test_s = pad_sequences(eng_ts, maxlen=max_words, padding='post')"
      ],
      "execution_count": 22,
      "outputs": []
    },
    {
      "cell_type": "code",
      "metadata": {
        "id": "QrXI4CJCzam4",
        "colab": {
          "base_uri": "https://localhost:8080/"
        },
        "outputId": "c931fb9c-a399-4dbe-ba2e-8fd8e04e9ae8"
      },
      "source": [
        "eng_vocab_size, ger_vocab_size"
      ],
      "execution_count": 23,
      "outputs": [
        {
          "output_type": "execute_result",
          "data": {
            "text/plain": [
              "(8776, 14753)"
            ]
          },
          "metadata": {
            "tags": []
          },
          "execution_count": 23
        }
      ]
    },
    {
      "cell_type": "markdown",
      "metadata": {
        "id": "DtnStVmIpnTi"
      },
      "source": [
        "# Model Building"
      ]
    },
    {
      "cell_type": "code",
      "metadata": {
        "id": "oKiI-LH3Ikwu"
      },
      "source": [
        "from keras.callbacks import ModelCheckpoint\n",
        "from keras.layers.embeddings import Embedding\n",
        "from keras.layers.recurrent import LSTM\n",
        "from keras.layers import Dense, Activation, RepeatVector, Dropout\n",
        "from keras.models import Sequential, load_model\n",
        "\n",
        "import matplotlib.pyplot as plt\n",
        "\n",
        "from nltk.translate.bleu_score import corpus_bleu"
      ],
      "execution_count": 24,
      "outputs": []
    },
    {
      "cell_type": "code",
      "metadata": {
        "id": "ws_QqvEGQRzJ"
      },
      "source": [
        "def model_info(model):\n",
        "    for l in model.layers:\n",
        "        for k,v in l.get_config().items():\n",
        "            if k not in ['trainable', 'dtype'] and v and type(v) is not dict:\n",
        "                print(k,v)\n",
        "        print()"
      ],
      "execution_count": 25,
      "outputs": []
    },
    {
      "cell_type": "code",
      "metadata": {
        "colab": {
          "base_uri": "https://localhost:8080/"
        },
        "id": "EX3o4D6hKd3i",
        "outputId": "de4845ea-2fa7-45ec-ea78-cd6a6a0c8dcc"
      },
      "source": [
        "model = Sequential()\n",
        "model.add(Embedding(input_dim=ger_vocab_size, output_dim=256, input_length=max_words, mask_zero=True))\n",
        "model.add(LSTM(256))\n",
        "model.add(RepeatVector(max_words))\n",
        "model.add(LSTM(256, return_sequences=True))\n",
        "model.add(Dense(eng_vocab_size, activation='softmax'))\n",
        "model.compile(optimizer='rmsprop', loss='sparse_categorical_crossentropy')\n",
        "print(model.summary())"
      ],
      "execution_count": 55,
      "outputs": [
        {
          "output_type": "stream",
          "text": [
            "Model: \"sequential_7\"\n",
            "_________________________________________________________________\n",
            "Layer (type)                 Output Shape              Param #   \n",
            "=================================================================\n",
            "embedding_7 (Embedding)      (None, 7, 256)            3776768   \n",
            "_________________________________________________________________\n",
            "lstm_14 (LSTM)               (None, 256)               525312    \n",
            "_________________________________________________________________\n",
            "repeat_vector_3 (RepeatVecto (None, 7, 256)            0         \n",
            "_________________________________________________________________\n",
            "lstm_15 (LSTM)               (None, 7, 256)            525312    \n",
            "_________________________________________________________________\n",
            "dense_7 (Dense)              (None, 7, 8776)           2255432   \n",
            "=================================================================\n",
            "Total params: 7,082,824\n",
            "Trainable params: 7,082,824\n",
            "Non-trainable params: 0\n",
            "_________________________________________________________________\n",
            "None\n"
          ],
          "name": "stdout"
        }
      ]
    },
    {
      "cell_type": "code",
      "metadata": {
        "colab": {
          "base_uri": "https://localhost:8080/"
        },
        "id": "MG7FirlrqoB3",
        "outputId": "d5c15c99-e797-4c58-cd96-76d5e5ad2960"
      },
      "source": [
        "filename = 'model_g2e.h5'\n",
        "checkpoint = ModelCheckpoint(filename, monitor='val_loss', verbose=1, save_best_only=True, mode='min')\n",
        "\n",
        "model.fit(X_train_s, y_train_s, epochs=30, batch_size=512, validation_data=(X_test_s, y_test_s), callbacks=[checkpoint], verbose=2)"
      ],
      "execution_count": 56,
      "outputs": [
        {
          "output_type": "stream",
          "text": [
            "Epoch 1/30\n",
            "79/79 - 16s - loss: 5.2748 - val_loss: 4.8733\n",
            "\n",
            "Epoch 00001: val_loss improved from inf to 4.87332, saving model to model_g2e.h5\n",
            "Epoch 2/30\n",
            "79/79 - 8s - loss: 4.7358 - val_loss: 4.7934\n",
            "\n",
            "Epoch 00002: val_loss improved from 4.87332 to 4.79338, saving model to model_g2e.h5\n",
            "Epoch 3/30\n",
            "79/79 - 8s - loss: 4.5389 - val_loss: 4.5408\n",
            "\n",
            "Epoch 00003: val_loss improved from 4.79338 to 4.54082, saving model to model_g2e.h5\n",
            "Epoch 4/30\n",
            "79/79 - 8s - loss: 4.3868 - val_loss: 4.3621\n",
            "\n",
            "Epoch 00004: val_loss improved from 4.54082 to 4.36215, saving model to model_g2e.h5\n",
            "Epoch 5/30\n",
            "79/79 - 8s - loss: 4.2394 - val_loss: 4.2567\n",
            "\n",
            "Epoch 00005: val_loss improved from 4.36215 to 4.25669, saving model to model_g2e.h5\n",
            "Epoch 6/30\n",
            "79/79 - 8s - loss: 4.1456 - val_loss: 4.2018\n",
            "\n",
            "Epoch 00006: val_loss improved from 4.25669 to 4.20177, saving model to model_g2e.h5\n",
            "Epoch 7/30\n",
            "79/79 - 8s - loss: 4.0274 - val_loss: 4.1103\n",
            "\n",
            "Epoch 00007: val_loss improved from 4.20177 to 4.11033, saving model to model_g2e.h5\n",
            "Epoch 8/30\n",
            "79/79 - 8s - loss: 3.9221 - val_loss: 4.0396\n",
            "\n",
            "Epoch 00008: val_loss improved from 4.11033 to 4.03957, saving model to model_g2e.h5\n",
            "Epoch 9/30\n",
            "79/79 - 8s - loss: 3.8162 - val_loss: 3.9226\n",
            "\n",
            "Epoch 00009: val_loss improved from 4.03957 to 3.92264, saving model to model_g2e.h5\n",
            "Epoch 10/30\n",
            "79/79 - 8s - loss: 3.6995 - val_loss: 3.8659\n",
            "\n",
            "Epoch 00010: val_loss improved from 3.92264 to 3.86585, saving model to model_g2e.h5\n",
            "Epoch 11/30\n",
            "79/79 - 8s - loss: 3.5876 - val_loss: 3.7752\n",
            "\n",
            "Epoch 00011: val_loss improved from 3.86585 to 3.77520, saving model to model_g2e.h5\n",
            "Epoch 12/30\n",
            "79/79 - 8s - loss: 3.4782 - val_loss: 3.6941\n",
            "\n",
            "Epoch 00012: val_loss improved from 3.77520 to 3.69413, saving model to model_g2e.h5\n",
            "Epoch 13/30\n",
            "79/79 - 8s - loss: 3.3711 - val_loss: 3.6012\n",
            "\n",
            "Epoch 00013: val_loss improved from 3.69413 to 3.60120, saving model to model_g2e.h5\n",
            "Epoch 14/30\n",
            "79/79 - 8s - loss: 3.2649 - val_loss: 3.5891\n",
            "\n",
            "Epoch 00014: val_loss improved from 3.60120 to 3.58912, saving model to model_g2e.h5\n",
            "Epoch 15/30\n",
            "79/79 - 8s - loss: 3.1554 - val_loss: 3.5623\n",
            "\n",
            "Epoch 00015: val_loss improved from 3.58912 to 3.56228, saving model to model_g2e.h5\n",
            "Epoch 16/30\n",
            "79/79 - 8s - loss: 3.0485 - val_loss: 3.4043\n",
            "\n",
            "Epoch 00016: val_loss improved from 3.56228 to 3.40430, saving model to model_g2e.h5\n",
            "Epoch 17/30\n",
            "79/79 - 8s - loss: 2.9426 - val_loss: 3.3892\n",
            "\n",
            "Epoch 00017: val_loss improved from 3.40430 to 3.38921, saving model to model_g2e.h5\n",
            "Epoch 18/30\n",
            "79/79 - 8s - loss: 2.8397 - val_loss: 3.2693\n",
            "\n",
            "Epoch 00018: val_loss improved from 3.38921 to 3.26927, saving model to model_g2e.h5\n",
            "Epoch 19/30\n",
            "79/79 - 8s - loss: 2.7368 - val_loss: 3.1890\n",
            "\n",
            "Epoch 00019: val_loss improved from 3.26927 to 3.18904, saving model to model_g2e.h5\n",
            "Epoch 20/30\n",
            "79/79 - 8s - loss: 2.6389 - val_loss: 3.1459\n",
            "\n",
            "Epoch 00020: val_loss improved from 3.18904 to 3.14585, saving model to model_g2e.h5\n",
            "Epoch 21/30\n",
            "79/79 - 8s - loss: 2.5415 - val_loss: 3.0976\n",
            "\n",
            "Epoch 00021: val_loss improved from 3.14585 to 3.09762, saving model to model_g2e.h5\n",
            "Epoch 22/30\n",
            "79/79 - 8s - loss: 2.4513 - val_loss: 3.0473\n",
            "\n",
            "Epoch 00022: val_loss improved from 3.09762 to 3.04734, saving model to model_g2e.h5\n",
            "Epoch 23/30\n",
            "79/79 - 8s - loss: 2.3627 - val_loss: 3.0421\n",
            "\n",
            "Epoch 00023: val_loss improved from 3.04734 to 3.04208, saving model to model_g2e.h5\n",
            "Epoch 24/30\n",
            "79/79 - 8s - loss: 2.2784 - val_loss: 2.9968\n",
            "\n",
            "Epoch 00024: val_loss improved from 3.04208 to 2.99683, saving model to model_g2e.h5\n",
            "Epoch 25/30\n",
            "79/79 - 8s - loss: 2.1990 - val_loss: 2.9370\n",
            "\n",
            "Epoch 00025: val_loss improved from 2.99683 to 2.93699, saving model to model_g2e.h5\n",
            "Epoch 26/30\n",
            "79/79 - 8s - loss: 2.1230 - val_loss: 2.8818\n",
            "\n",
            "Epoch 00026: val_loss improved from 2.93699 to 2.88179, saving model to model_g2e.h5\n",
            "Epoch 27/30\n",
            "79/79 - 8s - loss: 2.0495 - val_loss: 2.8731\n",
            "\n",
            "Epoch 00027: val_loss improved from 2.88179 to 2.87311, saving model to model_g2e.h5\n",
            "Epoch 28/30\n",
            "79/79 - 8s - loss: 1.9779 - val_loss: 2.8410\n",
            "\n",
            "Epoch 00028: val_loss improved from 2.87311 to 2.84104, saving model to model_g2e.h5\n",
            "Epoch 29/30\n",
            "79/79 - 8s - loss: 1.9103 - val_loss: 2.8151\n",
            "\n",
            "Epoch 00029: val_loss improved from 2.84104 to 2.81513, saving model to model_g2e.h5\n",
            "Epoch 30/30\n",
            "79/79 - 8s - loss: 1.8457 - val_loss: 2.7948\n",
            "\n",
            "Epoch 00030: val_loss improved from 2.81513 to 2.79479, saving model to model_g2e.h5\n"
          ],
          "name": "stdout"
        },
        {
          "output_type": "execute_result",
          "data": {
            "text/plain": [
              "<keras.callbacks.History at 0x7fa569768910>"
            ]
          },
          "metadata": {
            "tags": []
          },
          "execution_count": 56
        }
      ]
    },
    {
      "cell_type": "code",
      "metadata": {
        "colab": {
          "base_uri": "https://localhost:8080/",
          "height": 846
        },
        "id": "jX9YwBZIsJHW",
        "outputId": "0c65ee01-165e-4dd0-cd35-586d5c7c884c"
      },
      "source": [
        "#Epoch - 30 1st Model\n",
        "plt.plot(model.history.history['loss'])\n",
        "plt.plot(model.history.history['val_loss'])\n",
        "plt.legend(['train', 'validation'])\n",
        "plt.show()\n",
        "\n",
        "model_info(model)"
      ],
      "execution_count": 57,
      "outputs": [
        {
          "output_type": "display_data",
          "data": {
            "image/png": "[encoded data removed]",
            "text/plain": [
              "<Figure size 432x288 with 1 Axes>"
            ]
          },
          "metadata": {
            "tags": [],
            "needs_background": "light"
          }
        },
        {
          "output_type": "stream",
          "text": [
            "name embedding_7\n",
            "batch_input_shape (None, 7)\n",
            "input_dim 14753\n",
            "output_dim 256\n",
            "mask_zero True\n",
            "input_length 7\n",
            "\n",
            "name lstm_14\n",
            "units 256\n",
            "activation tanh\n",
            "recurrent_activation hard_sigmoid\n",
            "use_bias True\n",
            "unit_forget_bias True\n",
            "implementation 1\n",
            "\n",
            "name repeat_vector_3\n",
            "n 7\n",
            "\n",
            "name lstm_15\n",
            "return_sequences True\n",
            "units 256\n",
            "activation tanh\n",
            "recurrent_activation hard_sigmoid\n",
            "use_bias True\n",
            "unit_forget_bias True\n",
            "implementation 1\n",
            "\n",
            "name dense_7\n",
            "units 8776\n",
            "activation softmax\n",
            "use_bias True\n",
            "\n"
          ],
          "name": "stdout"
        }
      ]
    },
    {
      "cell_type": "markdown",
      "metadata": {
        "id": "4wl7P54D2GRT"
      },
      "source": [
        "# Model Evaluation"
      ]
    },
    {
      "cell_type": "code",
      "metadata": {
        "id": "gTMlJPjfM5wW"
      },
      "source": [
        "def word_for_id(integer, tokenizer):\n",
        "\tfor word, index in tokenizer.word_index.items():\n",
        "\t\tif index == integer:\n",
        "\t\t\treturn word\n",
        "\treturn None"
      ],
      "execution_count": 49,
      "outputs": []
    },
    {
      "cell_type": "code",
      "metadata": {
        "id": "rEN6zQ0KSO2q"
      },
      "source": [
        "def evaluate(source, target, tokenizer):\n",
        "    predicted = []\n",
        "    for i in range(source.shape[0]):\n",
        "        seq = source[i].reshape((1,max_words))\n",
        "        pred = model.predict(seq)[0]\n",
        "        pr_seq = [np.argmax(p) for p in pred]\n",
        "        p_text = [word_for_id(n, tokenizer) for n in pr_seq if word_for_id(n, tokenizer) is not None]\n",
        "        predicted.append(p_text)\n",
        "    return predicted"
      ],
      "execution_count": 50,
      "outputs": []
    },
    {
      "cell_type": "code",
      "metadata": {
        "id": "pvZFkyTID-VJ",
        "colab": {
          "base_uri": "https://localhost:8080/"
        },
        "outputId": "a774879d-8fe2-460e-eea6-73d4898815f4"
      },
      "source": [
        "model = load_model('model_g2e.h5')"
      ],
      "execution_count": 58,
      "outputs": [
        {
          "output_type": "stream",
          "text": [
            "WARNING:tensorflow:Layer lstm_14 will not use cuDNN kernels since it doesn't meet the criteria. It will use a generic GPU kernel as fallback when running on GPU.\n",
            "WARNING:tensorflow:Layer lstm_15 will not use cuDNN kernels since it doesn't meet the criteria. It will use a generic GPU kernel as fallback when running on GPU.\n"
          ],
          "name": "stdout"
        }
      ]
    },
    {
      "cell_type": "code",
      "metadata": {
        "colab": {
          "base_uri": "https://localhost:8080/"
        },
        "id": "UeieOT70kYje",
        "outputId": "86328c37-a63c-41e6-abf3-e4c8d3bc952b"
      },
      "source": [
        "predicted_train = evaluate(X_train_s, y_train_s, eng_tokenizer)\n",
        "actual_train = [[y_train.iloc[i].split()] for i in range(y_train.shape[0])]\n",
        "\n",
        "print('Train')\n",
        "print('BLEU-1: %f' % corpus_bleu(actual_train, predicted_train, weights=(1.0, 0, 0, 0)))\n",
        "print('BLEU-2: %f' % corpus_bleu(actual_train, predicted_train, weights=(0.5, 0.5, 0, 0)))\n",
        "print('BLEU-3: %f' % corpus_bleu(actual_train, predicted_train, weights=(0.3, 0.3, 0.3, 0)))\n",
        "print('BLEU-4: %f' % corpus_bleu(actual_train, predicted_train, weights=(0.25, 0.25, 0.25, 0.25)))\n",
        "\n",
        "predicted_test = evaluate(X_test_s, y_test_s, eng_tokenizer)\n",
        "actual_test = [[y_test.iloc[i].split()] for i in range(y_test.shape[0])]\n",
        "\n",
        "print('Test')\n",
        "print('BLEU-1: %f' % corpus_bleu(actual_test, predicted_test, weights=(1.0, 0, 0, 0)))\n",
        "print('BLEU-2: %f' % corpus_bleu(actual_test, predicted_test, weights=(0.5, 0.5, 0, 0)))\n",
        "print('BLEU-3: %f' % corpus_bleu(actual_test, predicted_test, weights=(0.3, 0.3, 0.3, 0)))\n",
        "print('BLEU-4: %f' % corpus_bleu(actual_test, predicted_test, weights=(0.25, 0.25, 0.25, 0.25)))\n"
      ],
      "execution_count": 59,
      "outputs": [
        {
          "output_type": "stream",
          "text": [
            "Train\n",
            "BLEU-1: 0.519241\n",
            "BLEU-2: 0.369473\n",
            "BLEU-3: 0.299025\n",
            "BLEU-4: 0.182923\n",
            "Test\n",
            "BLEU-1: 0.430342\n",
            "BLEU-2: 0.284057\n",
            "BLEU-3: 0.223003\n",
            "BLEU-4: 0.124176\n"
          ],
          "name": "stdout"
        }
      ]
    },
    {
      "cell_type": "code",
      "metadata": {
        "colab": {
          "base_uri": "https://localhost:8080/",
          "height": 424
        },
        "id": "NRKSeMXm0NvB",
        "outputId": "c62c6cba-fba6-4c67-edab-31df1bf4c001"
      },
      "source": [
        "d_train = {'German':X_train, 'Actual':y_train, 'Predicted':[' '.join(p) for p in predicted_train]}\n",
        "df_train = pd.DataFrame(d_train)\n",
        "df_train"
      ],
      "execution_count": 60,
      "outputs": [
        {
          "output_type": "execute_result",
          "data": {
            "text/html": [
              "<div>\n",
              "<style scoped>\n",
              "    .dataframe tbody tr th:only-of-type {\n",
              "        vertical-align: middle;\n",
              "    }\n",
              "\n",
              "    .dataframe tbody tr th {\n",
              "        vertical-align: top;\n",
              "    }\n",
              "\n",
              "    .dataframe thead th {\n",
              "        text-align: right;\n",
              "    }\n",
              "</style>\n",
              "<table border=\"1\" class=\"dataframe\">\n",
              "  <thead>\n",
              "    <tr style=\"text-align: right;\">\n",
              "      <th></th>\n",
              "      <th>German</th>\n",
              "      <th>Actual</th>\n",
              "      <th>Predicted</th>\n",
              "    </tr>\n",
              "  </thead>\n",
              "  <tbody>\n",
              "    <tr>\n",
              "      <th>34907</th>\n",
              "      <td>du hast ein versprechen abgelegt</td>\n",
              "      <td>you made a promise</td>\n",
              "      <td>you have a choice</td>\n",
              "    </tr>\n",
              "    <tr>\n",
              "      <th>69334</th>\n",
              "      <td>gestern waere ich fast ums leben gekommen</td>\n",
              "      <td>i almost died yesterday</td>\n",
              "      <td>i almost laughed died</td>\n",
              "    </tr>\n",
              "    <tr>\n",
              "      <th>170294</th>\n",
              "      <td>in rom gibt es viele alte gebaeude</td>\n",
              "      <td>rome has a lot of ancient buildings</td>\n",
              "      <td>there is a lot of of water</td>\n",
              "    </tr>\n",
              "    <tr>\n",
              "      <th>70624</th>\n",
              "      <td>ich wollte dich beeindrucken</td>\n",
              "      <td>i wanted to impress you</td>\n",
              "      <td>i wanted to to</td>\n",
              "    </tr>\n",
              "    <tr>\n",
              "      <th>135184</th>\n",
              "      <td>die anderen maedchen lachten ueber sie</td>\n",
              "      <td>the other girls laughed at her</td>\n",
              "      <td>the girls girls girls to her</td>\n",
              "    </tr>\n",
              "    <tr>\n",
              "      <th>...</th>\n",
              "      <td>...</td>\n",
              "      <td>...</td>\n",
              "      <td>...</td>\n",
              "    </tr>\n",
              "    <tr>\n",
              "      <th>130261</th>\n",
              "      <td>du fuehlst dich wohl hier nicht wahr</td>\n",
              "      <td>youre happy here arent you</td>\n",
              "      <td>youre arent youre here you</td>\n",
              "    </tr>\n",
              "    <tr>\n",
              "      <th>168657</th>\n",
              "      <td>mir ist nichts verdaechtiges aufgefallen</td>\n",
              "      <td>i didnt notice anything suspicious</td>\n",
              "      <td>i didnt have anything anything</td>\n",
              "    </tr>\n",
              "    <tr>\n",
              "      <th>177805</th>\n",
              "      <td>tom sagte dass mary keinen spass hatte</td>\n",
              "      <td>tom said that mary wasnt having fun</td>\n",
              "      <td>tom said mary he was</td>\n",
              "    </tr>\n",
              "    <tr>\n",
              "      <th>17107</th>\n",
              "      <td>ich scherze nicht</td>\n",
              "      <td>i am not kidding</td>\n",
              "      <td>i dont not</td>\n",
              "    </tr>\n",
              "    <tr>\n",
              "      <th>48827</th>\n",
              "      <td>tom geht oft dorthin</td>\n",
              "      <td>tom often goes there</td>\n",
              "      <td>tom often to there</td>\n",
              "    </tr>\n",
              "  </tbody>\n",
              "</table>\n",
              "<p>40000 rows × 3 columns</p>\n",
              "</div>"
            ],
            "text/plain": [
              "                                           German  ...                       Predicted\n",
              "34907            du hast ein versprechen abgelegt  ...               you have a choice\n",
              "69334   gestern waere ich fast ums leben gekommen  ...           i almost laughed died\n",
              "170294         in rom gibt es viele alte gebaeude  ...      there is a lot of of water\n",
              "70624                ich wollte dich beeindrucken  ...                  i wanted to to\n",
              "135184     die anderen maedchen lachten ueber sie  ...    the girls girls girls to her\n",
              "...                                           ...  ...                             ...\n",
              "130261       du fuehlst dich wohl hier nicht wahr  ...      youre arent youre here you\n",
              "168657   mir ist nichts verdaechtiges aufgefallen  ...  i didnt have anything anything\n",
              "177805     tom sagte dass mary keinen spass hatte  ...            tom said mary he was\n",
              "17107                           ich scherze nicht  ...                      i dont not\n",
              "48827                        tom geht oft dorthin  ...              tom often to there\n",
              "\n",
              "[40000 rows x 3 columns]"
            ]
          },
          "metadata": {
            "tags": []
          },
          "execution_count": 60
        }
      ]
    },
    {
      "cell_type": "code",
      "metadata": {
        "colab": {
          "base_uri": "https://localhost:8080/",
          "height": 424
        },
        "id": "v9HdNCsk0eV3",
        "outputId": "c5b0064b-2760-4ec7-8b56-48e8bfb265ec"
      },
      "source": [
        "d_test = {'German':X_test, 'Actual':y_test, 'Predicted':[' '.join(p) for p in predicted_test]}\n",
        "df_test = pd.DataFrame(d_test)\n",
        "df_test"
      ],
      "execution_count": 61,
      "outputs": [
        {
          "output_type": "execute_result",
          "data": {
            "text/html": [
              "<div>\n",
              "<style scoped>\n",
              "    .dataframe tbody tr th:only-of-type {\n",
              "        vertical-align: middle;\n",
              "    }\n",
              "\n",
              "    .dataframe tbody tr th {\n",
              "        vertical-align: top;\n",
              "    }\n",
              "\n",
              "    .dataframe thead th {\n",
              "        text-align: right;\n",
              "    }\n",
              "</style>\n",
              "<table border=\"1\" class=\"dataframe\">\n",
              "  <thead>\n",
              "    <tr style=\"text-align: right;\">\n",
              "      <th></th>\n",
              "      <th>German</th>\n",
              "      <th>Actual</th>\n",
              "      <th>Predicted</th>\n",
              "    </tr>\n",
              "  </thead>\n",
              "  <tbody>\n",
              "    <tr>\n",
              "      <th>78923</th>\n",
              "      <td>ich spreche kein franzoesisch</td>\n",
              "      <td>i dont speak any french</td>\n",
              "      <td>i dont speak french french</td>\n",
              "    </tr>\n",
              "    <tr>\n",
              "      <th>94855</th>\n",
              "      <td>du kochst wirklich gut</td>\n",
              "      <td>youre really a good cook</td>\n",
              "      <td>you are really good</td>\n",
              "    </tr>\n",
              "    <tr>\n",
              "      <th>83360</th>\n",
              "      <td>tom ist gerade im garten</td>\n",
              "      <td>tom is in the garden now</td>\n",
              "      <td>tom is in in the garden</td>\n",
              "    </tr>\n",
              "    <tr>\n",
              "      <th>133260</th>\n",
              "      <td>ich war gestern bei tom</td>\n",
              "      <td>i was at toms place yesterday</td>\n",
              "      <td>i was tom tom yesterday</td>\n",
              "    </tr>\n",
              "    <tr>\n",
              "      <th>165989</th>\n",
              "      <td>tom merkte dass maria ungluecklich war</td>\n",
              "      <td>tom realized that mary was unhappy</td>\n",
              "      <td>tom said mary mary was</td>\n",
              "    </tr>\n",
              "    <tr>\n",
              "      <th>...</th>\n",
              "      <td>...</td>\n",
              "      <td>...</td>\n",
              "      <td>...</td>\n",
              "    </tr>\n",
              "    <tr>\n",
              "      <th>3541</th>\n",
              "      <td>komm und sieh</td>\n",
              "      <td>come and see</td>\n",
              "      <td>come and and</td>\n",
              "    </tr>\n",
              "    <tr>\n",
              "      <th>57997</th>\n",
              "      <td>was hast du sonst noch gekauft</td>\n",
              "      <td>what else did you buy</td>\n",
              "      <td>what did you you have</td>\n",
              "    </tr>\n",
              "    <tr>\n",
              "      <th>60956</th>\n",
              "      <td>ich kenne dieses lied nicht</td>\n",
              "      <td>i dont know that song</td>\n",
              "      <td>i dont that this this</td>\n",
              "    </tr>\n",
              "    <tr>\n",
              "      <th>498</th>\n",
              "      <td>es ist tom</td>\n",
              "      <td>its tom</td>\n",
              "      <td>its is</td>\n",
              "    </tr>\n",
              "    <tr>\n",
              "      <th>70610</th>\n",
              "      <td>ich moechte dass du das hast</td>\n",
              "      <td>i want you to have this</td>\n",
              "      <td>i want you to it</td>\n",
              "    </tr>\n",
              "  </tbody>\n",
              "</table>\n",
              "<p>10000 rows × 3 columns</p>\n",
              "</div>"
            ],
            "text/plain": [
              "                                        German  ...                   Predicted\n",
              "78923            ich spreche kein franzoesisch  ...  i dont speak french french\n",
              "94855                   du kochst wirklich gut  ...         you are really good\n",
              "83360                 tom ist gerade im garten  ...     tom is in in the garden\n",
              "133260                 ich war gestern bei tom  ...     i was tom tom yesterday\n",
              "165989  tom merkte dass maria ungluecklich war  ...      tom said mary mary was\n",
              "...                                        ...  ...                         ...\n",
              "3541                             komm und sieh  ...                come and and\n",
              "57997           was hast du sonst noch gekauft  ...       what did you you have\n",
              "60956              ich kenne dieses lied nicht  ...       i dont that this this\n",
              "498                                 es ist tom  ...                      its is\n",
              "70610             ich moechte dass du das hast  ...            i want you to it\n",
              "\n",
              "[10000 rows x 3 columns]"
            ]
          },
          "metadata": {
            "tags": []
          },
          "execution_count": 61
        }
      ]
    }
  ]
}